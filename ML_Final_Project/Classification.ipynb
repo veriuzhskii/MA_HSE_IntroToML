{
  "nbformat": 4,
  "nbformat_minor": 0,
  "metadata": {
    "colab": {
      "provenance": []
    },
    "kernelspec": {
      "name": "python3",
      "display_name": "Python 3"
    },
    "language_info": {
      "name": "python"
    }
  },
  "cells": [
    {
      "cell_type": "code",
      "execution_count": 1,
      "metadata": {
        "id": "JyXsABeZLMD6",
        "colab": {
          "base_uri": "https://localhost:8080/"
        },
        "outputId": "2e5a68b4-7a2e-49b2-ead8-9b5fbcc9b3f5"
      },
      "outputs": [
        {
          "output_type": "stream",
          "name": "stdout",
          "text": [
            "\u001b[38;5;2m✔ Download and installation successful\u001b[0m\n",
            "You can now load the package via spacy.load('ru_core_news_sm')\n",
            "\u001b[38;5;3m⚠ Restart to reload dependencies\u001b[0m\n",
            "If you are in a Jupyter or Colab notebook, you may need to restart Python in\n",
            "order to load all the package's dependencies. You can do this by selecting the\n",
            "'Restart kernel' or 'Restart runtime' option.\n"
          ]
        }
      ],
      "source": [
        "!python3 -m spacy download ru_core_news_sm -q\n",
        "\n",
        "import matplotlib.pyplot as plt\n",
        "import nltk\n",
        "import numpy as np\n",
        "import pandas as pd\n",
        "import seaborn as sns\n",
        "import spacy\n",
        "\n",
        "from nltk.corpus import stopwords\n",
        "\n",
        "from sklearn.feature_extraction.text import TfidfVectorizer\n",
        "from sklearn.linear_model import LogisticRegression\n",
        "from sklearn.model_selection import train_test_split\n",
        "from sklearn.naive_bayes import GaussianNB\n",
        "from sklearn.metrics import (\n",
        "    accuracy_score,\n",
        "    classification_report,\n",
        "    confusion_matrix,\n",
        ") # Метрики оценки модели"
      ]
    },
    {
      "cell_type": "code",
      "source": [
        "df = pd.read_csv('/content/1000comments.csv')\n",
        "df.head()"
      ],
      "metadata": {
        "colab": {
          "base_uri": "https://localhost:8080/",
          "height": 206
        },
        "collapsed": true,
        "id": "-c91McQh8poB",
        "outputId": "b47b074e-9910-4777-91d8-64724ab8de05"
      },
      "execution_count": 2,
      "outputs": [
        {
          "output_type": "execute_result",
          "data": {
            "text/plain": [
              "                                                text  is_bias\n",
              "0  Драное твоё очко. Победу одержал Советский нар...        0\n",
              "1  Тупые бараны каждый год туда катаются,потом ск...        0\n",
              "2  Бля все сдохнут. Равенства никогда не будет. Н...        0\n",
              "3  Получается:протестанты ,которые зарождали капи...        1\n",
              "4  Ты че порвался, выблядок? А кем были горбатый ...        0"
            ],
            "text/html": [
              "\n",
              "  <div id=\"df-90ad1868-c2f5-4dcc-acc9-2555f540c2cb\" class=\"colab-df-container\">\n",
              "    <div>\n",
              "<style scoped>\n",
              "    .dataframe tbody tr th:only-of-type {\n",
              "        vertical-align: middle;\n",
              "    }\n",
              "\n",
              "    .dataframe tbody tr th {\n",
              "        vertical-align: top;\n",
              "    }\n",
              "\n",
              "    .dataframe thead th {\n",
              "        text-align: right;\n",
              "    }\n",
              "</style>\n",
              "<table border=\"1\" class=\"dataframe\">\n",
              "  <thead>\n",
              "    <tr style=\"text-align: right;\">\n",
              "      <th></th>\n",
              "      <th>text</th>\n",
              "      <th>is_bias</th>\n",
              "    </tr>\n",
              "  </thead>\n",
              "  <tbody>\n",
              "    <tr>\n",
              "      <th>0</th>\n",
              "      <td>Драное твоё очко. Победу одержал Советский нар...</td>\n",
              "      <td>0</td>\n",
              "    </tr>\n",
              "    <tr>\n",
              "      <th>1</th>\n",
              "      <td>Тупые бараны каждый год туда катаются,потом ск...</td>\n",
              "      <td>0</td>\n",
              "    </tr>\n",
              "    <tr>\n",
              "      <th>2</th>\n",
              "      <td>Бля все сдохнут. Равенства никогда не будет. Н...</td>\n",
              "      <td>0</td>\n",
              "    </tr>\n",
              "    <tr>\n",
              "      <th>3</th>\n",
              "      <td>Получается:протестанты ,которые зарождали капи...</td>\n",
              "      <td>1</td>\n",
              "    </tr>\n",
              "    <tr>\n",
              "      <th>4</th>\n",
              "      <td>Ты че порвался, выблядок? А кем были горбатый ...</td>\n",
              "      <td>0</td>\n",
              "    </tr>\n",
              "  </tbody>\n",
              "</table>\n",
              "</div>\n",
              "    <div class=\"colab-df-buttons\">\n",
              "\n",
              "  <div class=\"colab-df-container\">\n",
              "    <button class=\"colab-df-convert\" onclick=\"convertToInteractive('df-90ad1868-c2f5-4dcc-acc9-2555f540c2cb')\"\n",
              "            title=\"Convert this dataframe to an interactive table.\"\n",
              "            style=\"display:none;\">\n",
              "\n",
              "  <svg xmlns=\"http://www.w3.org/2000/svg\" height=\"24px\" viewBox=\"0 -960 960 960\">\n",
              "    <path d=\"M120-120v-720h720v720H120Zm60-500h600v-160H180v160Zm220 220h160v-160H400v160Zm0 220h160v-160H400v160ZM180-400h160v-160H180v160Zm440 0h160v-160H620v160ZM180-180h160v-160H180v160Zm440 0h160v-160H620v160Z\"/>\n",
              "  </svg>\n",
              "    </button>\n",
              "\n",
              "  <style>\n",
              "    .colab-df-container {\n",
              "      display:flex;\n",
              "      gap: 12px;\n",
              "    }\n",
              "\n",
              "    .colab-df-convert {\n",
              "      background-color: #E8F0FE;\n",
              "      border: none;\n",
              "      border-radius: 50%;\n",
              "      cursor: pointer;\n",
              "      display: none;\n",
              "      fill: #1967D2;\n",
              "      height: 32px;\n",
              "      padding: 0 0 0 0;\n",
              "      width: 32px;\n",
              "    }\n",
              "\n",
              "    .colab-df-convert:hover {\n",
              "      background-color: #E2EBFA;\n",
              "      box-shadow: 0px 1px 2px rgba(60, 64, 67, 0.3), 0px 1px 3px 1px rgba(60, 64, 67, 0.15);\n",
              "      fill: #174EA6;\n",
              "    }\n",
              "\n",
              "    .colab-df-buttons div {\n",
              "      margin-bottom: 4px;\n",
              "    }\n",
              "\n",
              "    [theme=dark] .colab-df-convert {\n",
              "      background-color: #3B4455;\n",
              "      fill: #D2E3FC;\n",
              "    }\n",
              "\n",
              "    [theme=dark] .colab-df-convert:hover {\n",
              "      background-color: #434B5C;\n",
              "      box-shadow: 0px 1px 3px 1px rgba(0, 0, 0, 0.15);\n",
              "      filter: drop-shadow(0px 1px 2px rgba(0, 0, 0, 0.3));\n",
              "      fill: #FFFFFF;\n",
              "    }\n",
              "  </style>\n",
              "\n",
              "    <script>\n",
              "      const buttonEl =\n",
              "        document.querySelector('#df-90ad1868-c2f5-4dcc-acc9-2555f540c2cb button.colab-df-convert');\n",
              "      buttonEl.style.display =\n",
              "        google.colab.kernel.accessAllowed ? 'block' : 'none';\n",
              "\n",
              "      async function convertToInteractive(key) {\n",
              "        const element = document.querySelector('#df-90ad1868-c2f5-4dcc-acc9-2555f540c2cb');\n",
              "        const dataTable =\n",
              "          await google.colab.kernel.invokeFunction('convertToInteractive',\n",
              "                                                    [key], {});\n",
              "        if (!dataTable) return;\n",
              "\n",
              "        const docLinkHtml = 'Like what you see? Visit the ' +\n",
              "          '<a target=\"_blank\" href=https://colab.research.google.com/notebooks/data_table.ipynb>data table notebook</a>'\n",
              "          + ' to learn more about interactive tables.';\n",
              "        element.innerHTML = '';\n",
              "        dataTable['output_type'] = 'display_data';\n",
              "        await google.colab.output.renderOutput(dataTable, element);\n",
              "        const docLink = document.createElement('div');\n",
              "        docLink.innerHTML = docLinkHtml;\n",
              "        element.appendChild(docLink);\n",
              "      }\n",
              "    </script>\n",
              "  </div>\n",
              "\n",
              "\n",
              "    <div id=\"df-dee261ee-bf67-4e9e-9618-9b5d85b778fb\">\n",
              "      <button class=\"colab-df-quickchart\" onclick=\"quickchart('df-dee261ee-bf67-4e9e-9618-9b5d85b778fb')\"\n",
              "                title=\"Suggest charts\"\n",
              "                style=\"display:none;\">\n",
              "\n",
              "<svg xmlns=\"http://www.w3.org/2000/svg\" height=\"24px\"viewBox=\"0 0 24 24\"\n",
              "     width=\"24px\">\n",
              "    <g>\n",
              "        <path d=\"M19 3H5c-1.1 0-2 .9-2 2v14c0 1.1.9 2 2 2h14c1.1 0 2-.9 2-2V5c0-1.1-.9-2-2-2zM9 17H7v-7h2v7zm4 0h-2V7h2v10zm4 0h-2v-4h2v4z\"/>\n",
              "    </g>\n",
              "</svg>\n",
              "      </button>\n",
              "\n",
              "<style>\n",
              "  .colab-df-quickchart {\n",
              "      --bg-color: #E8F0FE;\n",
              "      --fill-color: #1967D2;\n",
              "      --hover-bg-color: #E2EBFA;\n",
              "      --hover-fill-color: #174EA6;\n",
              "      --disabled-fill-color: #AAA;\n",
              "      --disabled-bg-color: #DDD;\n",
              "  }\n",
              "\n",
              "  [theme=dark] .colab-df-quickchart {\n",
              "      --bg-color: #3B4455;\n",
              "      --fill-color: #D2E3FC;\n",
              "      --hover-bg-color: #434B5C;\n",
              "      --hover-fill-color: #FFFFFF;\n",
              "      --disabled-bg-color: #3B4455;\n",
              "      --disabled-fill-color: #666;\n",
              "  }\n",
              "\n",
              "  .colab-df-quickchart {\n",
              "    background-color: var(--bg-color);\n",
              "    border: none;\n",
              "    border-radius: 50%;\n",
              "    cursor: pointer;\n",
              "    display: none;\n",
              "    fill: var(--fill-color);\n",
              "    height: 32px;\n",
              "    padding: 0;\n",
              "    width: 32px;\n",
              "  }\n",
              "\n",
              "  .colab-df-quickchart:hover {\n",
              "    background-color: var(--hover-bg-color);\n",
              "    box-shadow: 0 1px 2px rgba(60, 64, 67, 0.3), 0 1px 3px 1px rgba(60, 64, 67, 0.15);\n",
              "    fill: var(--button-hover-fill-color);\n",
              "  }\n",
              "\n",
              "  .colab-df-quickchart-complete:disabled,\n",
              "  .colab-df-quickchart-complete:disabled:hover {\n",
              "    background-color: var(--disabled-bg-color);\n",
              "    fill: var(--disabled-fill-color);\n",
              "    box-shadow: none;\n",
              "  }\n",
              "\n",
              "  .colab-df-spinner {\n",
              "    border: 2px solid var(--fill-color);\n",
              "    border-color: transparent;\n",
              "    border-bottom-color: var(--fill-color);\n",
              "    animation:\n",
              "      spin 1s steps(1) infinite;\n",
              "  }\n",
              "\n",
              "  @keyframes spin {\n",
              "    0% {\n",
              "      border-color: transparent;\n",
              "      border-bottom-color: var(--fill-color);\n",
              "      border-left-color: var(--fill-color);\n",
              "    }\n",
              "    20% {\n",
              "      border-color: transparent;\n",
              "      border-left-color: var(--fill-color);\n",
              "      border-top-color: var(--fill-color);\n",
              "    }\n",
              "    30% {\n",
              "      border-color: transparent;\n",
              "      border-left-color: var(--fill-color);\n",
              "      border-top-color: var(--fill-color);\n",
              "      border-right-color: var(--fill-color);\n",
              "    }\n",
              "    40% {\n",
              "      border-color: transparent;\n",
              "      border-right-color: var(--fill-color);\n",
              "      border-top-color: var(--fill-color);\n",
              "    }\n",
              "    60% {\n",
              "      border-color: transparent;\n",
              "      border-right-color: var(--fill-color);\n",
              "    }\n",
              "    80% {\n",
              "      border-color: transparent;\n",
              "      border-right-color: var(--fill-color);\n",
              "      border-bottom-color: var(--fill-color);\n",
              "    }\n",
              "    90% {\n",
              "      border-color: transparent;\n",
              "      border-bottom-color: var(--fill-color);\n",
              "    }\n",
              "  }\n",
              "</style>\n",
              "\n",
              "      <script>\n",
              "        async function quickchart(key) {\n",
              "          const quickchartButtonEl =\n",
              "            document.querySelector('#' + key + ' button');\n",
              "          quickchartButtonEl.disabled = true;  // To prevent multiple clicks.\n",
              "          quickchartButtonEl.classList.add('colab-df-spinner');\n",
              "          try {\n",
              "            const charts = await google.colab.kernel.invokeFunction(\n",
              "                'suggestCharts', [key], {});\n",
              "          } catch (error) {\n",
              "            console.error('Error during call to suggestCharts:', error);\n",
              "          }\n",
              "          quickchartButtonEl.classList.remove('colab-df-spinner');\n",
              "          quickchartButtonEl.classList.add('colab-df-quickchart-complete');\n",
              "        }\n",
              "        (() => {\n",
              "          let quickchartButtonEl =\n",
              "            document.querySelector('#df-dee261ee-bf67-4e9e-9618-9b5d85b778fb button');\n",
              "          quickchartButtonEl.style.display =\n",
              "            google.colab.kernel.accessAllowed ? 'block' : 'none';\n",
              "        })();\n",
              "      </script>\n",
              "    </div>\n",
              "    </div>\n",
              "  </div>\n"
            ],
            "application/vnd.google.colaboratory.intrinsic+json": {
              "type": "dataframe",
              "variable_name": "df",
              "summary": "{\n  \"name\": \"df\",\n  \"rows\": 767,\n  \"fields\": [\n    {\n      \"column\": \"text\",\n      \"properties\": {\n        \"dtype\": \"string\",\n        \"num_unique_values\": 763,\n        \"samples\": [\n          \"\\u042f \\u0440\\u0430\\u0434, \\u0447\\u0442\\u043e \\u0445\\u043e\\u0445\\u043b\\u044b \\u043f\\u043e\\u043b\\u0443\\u0447\\u0438\\u043b\\u0438, \\u0447\\u0442\\u043e \\u0434\\u043e\\u043b\\u0436\\u043d\\u044b \\u0431\\u044b\\u043b\\u0438. \\u0420\\u0430\\u0437\\u043e\\u0437\\u043b\\u0435\\u043d, \\u0447\\u0442\\u043e \\u043e\\u043d\\u0438 \\u043d\\u0435 \\u043f\\u043e\\u043b\\u0443\\u0447\\u0438\\u043b\\u0438 \\u0435\\u0449\\u0435 \\u0431\\u043e\\u043b\\u044c\\u0448\\u0435. \\u0410 \\u0442\\u044b, \\u043b\\u0438\\u0448\\u043d\\u0435\\u0445\\u0440\\u043e\\u043c\\u043e\\u0441\\u043e\\u043c\\u043d\\u044b\\u0439, \\u043c\\u043e\\u0436\\u0435\\u0448\\u044c \\u0434\\u0443\\u043c\\u0430\\u0442\\u044c, \\u0447\\u0442\\u043e \\u044d\\u0442\\u043e \\u043d\\u0430\\u0448\\u0430 \\u0437\\u0430\\u0441\\u043b\\u0443\\u0433\\u0430. \\u0422\\u043e\\u043b\\u044c\\u043a\\u043e \\u0442\\u044b \\u043d\\u0435 \\u0432\\u0438\\u0434\\u0438\\u0448\\u044c \\u043f\\u0435\\u0440\\u0441\\u043f\\u0435\\u043a\\u0442\\u0438\\u0432\\u044b, \\u043a\\u043e\\u0442\\u043e\\u0440\\u0430\\u044f \\u0441\\u043e\\u0437\\u0434\\u0430\\u0441\\u0442 \\u043f\\u0440\\u043e\\u0431\\u043b\\u0435\\u043c\\u044b \\u0442\\u0435\\u0431\\u0435 \\u0438 \\u0442\\u0432\\u043e\\u0438\\u043c \\u0434\\u0435\\u0442\\u044f\\u043c \\u0438 \\u0438\\u0445 \\u0434\\u0435\\u0442\\u044f\\u043c. \\u0422\\u043e, \\u0447\\u0442\\u043e \\u0445\\u043e\\u0445\\u043b\\u044b \\u0432\\u0437\\u044f\\u043b\\u0438 \\u0437\\u0430 \\u0449\\u0435\\u043a\\u0443, \\u043d\\u0435 \\u043e\\u0437\\u043d\\u0430\\u0447\\u0430\\u0435\\u0442 \\u043d\\u0430\\u0448\\u0443 \\u043f\\u043e\\u0431\\u0435\\u0434\\u0443, \\u044d\\u0442\\u043e \\u0437\\u043d\\u0430\\u0447\\u0438\\u0442, \\u0447\\u0442\\u043e \\u0443 \\u043d\\u0430\\u0441 \\u043f\\u043e\\u0434 \\u0431\\u043e\\u043a\\u043e\\u043c \\u0437\\u0430\\u0449\\u0435\\u043a\\u0430\\u043d\\u0446\\u044b \\u0438 \\u0438\\u0445 \\u0445\\u043e\\u0437\\u044f\\u0435\\u0432\\u0430. \\u0410 \\u0442\\u044b, \\u0441\\u043a\\u0443\\u0434\\u043e\\u0443\\u043c\\u043d\\u044b\\u0439, \\u0440\\u0430\\u0434 \\u044d\\u0442\\u043e\\u043c\\u0443\",\n          \"\\u0411\\u0435\\u0437 \\u0441\\u043e\\u0433\\u043b\\u0430\\u0441\\u043e\\u0432\\u0430\\u043d\\u0438\\u044f \\u0441 \\u041f.\\u0412.\\u0412. \\u043d\\u0435 \\u0441\\u0447\\u0438\\u0442\\u0430\\u0435\\u0442\\u0441\\u044f.\",\n          \"\\u0420\\u043e\\u0437\\u043e\\u0432\\u0430\\u044f \\u0434\\u0443\\u0440\\u044b\\u043d\\u0434\\u0430\"\n        ],\n        \"semantic_type\": \"\",\n        \"description\": \"\"\n      }\n    },\n    {\n      \"column\": \"is_bias\",\n      \"properties\": {\n        \"dtype\": \"number\",\n        \"std\": 0,\n        \"min\": 0,\n        \"max\": 1,\n        \"num_unique_values\": 2,\n        \"samples\": [\n          1,\n          0\n        ],\n        \"semantic_type\": \"\",\n        \"description\": \"\"\n      }\n    }\n  ]\n}"
            }
          },
          "metadata": {},
          "execution_count": 2
        }
      ]
    },
    {
      "cell_type": "code",
      "source": [
        "df.info()"
      ],
      "metadata": {
        "collapsed": true,
        "id": "suDK7C3TAzk_",
        "colab": {
          "base_uri": "https://localhost:8080/"
        },
        "outputId": "d4f566e1-c546-4ed1-fa28-c1b856a5901c"
      },
      "execution_count": 3,
      "outputs": [
        {
          "output_type": "stream",
          "name": "stdout",
          "text": [
            "<class 'pandas.core.frame.DataFrame'>\n",
            "RangeIndex: 767 entries, 0 to 766\n",
            "Data columns (total 2 columns):\n",
            " #   Column   Non-Null Count  Dtype \n",
            "---  ------   --------------  ----- \n",
            " 0   text     767 non-null    object\n",
            " 1   is_bias  767 non-null    int64 \n",
            "dtypes: int64(1), object(1)\n",
            "memory usage: 12.1+ KB\n"
          ]
        }
      ]
    },
    {
      "cell_type": "code",
      "source": [
        "vis = df['is_bias'].value_counts()   # подсчет значений (1 и 0)\n",
        "labels = ['not_biased', 'biased']\n",
        "fig = plt.figure(figsize=(5, 5))\n",
        "plt.title('Распределение классов is_bias')\n",
        "plt.pie(vis, labels=labels, colors=['b', 'c'], autopct='%1.1f%%', startangle=90)\n",
        "plt.show()"
      ],
      "metadata": {
        "id": "p8BNPbr4llUk",
        "colab": {
          "base_uri": "https://localhost:8080/",
          "height": 444
        },
        "outputId": "7d2944c4-1de5-4f56-b550-c89e04c99cc8"
      },
      "execution_count": 4,
      "outputs": [
        {
          "output_type": "display_data",
          "data": {
            "text/plain": [
              "<Figure size 500x500 with 1 Axes>"
            ],
            "image/png": "[encoded data removed]"
          },
          "metadata": {}
        }
      ]
    },
    {
      "cell_type": "markdown",
      "source": [
        "1. Предобработка данных."
      ],
      "metadata": {
        "id": "cnriGHwy8lqG"
      }
    },
    {
      "cell_type": "code",
      "source": [
        "nlp = spacy.load(\"ru_core_news_sm\")\n",
        "nltk.download('stopwords')\n",
        "stopwords_ru = stopwords.words(\"russian\")"
      ],
      "metadata": {
        "id": "v0ktuM-HoMDB",
        "collapsed": true,
        "colab": {
          "base_uri": "https://localhost:8080/"
        },
        "outputId": "f40ad3cc-4731-4757-d005-0bf0ab7c8d4c"
      },
      "execution_count": 5,
      "outputs": [
        {
          "output_type": "stream",
          "name": "stderr",
          "text": [
            "[nltk_data] Downloading package stopwords to /root/nltk_data...\n",
            "[nltk_data]   Package stopwords is already up-to-date!\n"
          ]
        }
      ]
    },
    {
      "cell_type": "code",
      "source": [
        "df_column0 = df['text'].replace(r'[^\\w\\s]',' ',regex=True).replace(r'\\s+',' ',regex=True).str.lower()     #чистим колонку с текстом от пунктуации и спец. символов + убираем двойные пробелы + нижний регистр\n",
        "#df_column0.head(10)"
      ],
      "metadata": {
        "collapsed": true,
        "id": "xbaEZsYTAVhm"
      },
      "execution_count": 6,
      "outputs": []
    },
    {
      "cell_type": "code",
      "source": [
        "lemma = []   #лемматизация\n",
        "\n",
        "for doc in nlp.pipe(df_column0.values):             #.pipe() - для эффективной обработки нескольких текстов одновременно\n",
        "    lemma.append([n.lemma_ for n in doc])           #проходимся по текстам и добавляем в список\n",
        "\n",
        "df['text'] = lemma                                 #сохраняем лемм. колонку в датафрейм\n",
        "#df['text'].head()"
      ],
      "metadata": {
        "id": "Z_B2wZAbAVjn",
        "collapsed": true
      },
      "execution_count": 7,
      "outputs": []
    },
    {
      "cell_type": "code",
      "source": [
        "stopwords_ru = stopwords.words(\"russian\")\n",
        "#stopwords_ru[0:11]"
      ],
      "metadata": {
        "id": "49qqNyMaib9n"
      },
      "execution_count": 8,
      "outputs": []
    },
    {
      "cell_type": "code",
      "source": [
        "df['text'] = df['text'].apply(lambda x: [item for item in x if item not in stopwords_ru])      #.apply() — применяет функцию ко всем элементам колонки\n",
        "df['text'] = [' '.join(map(str, l)) for l in df['text']]                                       #сделали из списков строки\n",
        "df['text'].head()"
      ],
      "metadata": {
        "collapsed": true,
        "id": "0nHi_qmbi5vV",
        "colab": {
          "base_uri": "https://localhost:8080/",
          "height": 241
        },
        "outputId": "482af2b0-e11d-4eb4-9fc6-e7d2c1e27d4d"
      },
      "execution_count": 9,
      "outputs": [
        {
          "output_type": "execute_result",
          "data": {
            "text/plain": [
              "0    драный твой очко победа одержать советский нар...\n",
              "1         тупой бараны каждый год туда кататься скулят\n",
              "2    бля сдохнуть равенство это весь человек брат в...\n",
              "3    получаться протестант которые зарождали капита...\n",
              "4    че порваться выблядок горбатый ельцин пиздабол...\n",
              "Name: text, dtype: object"
            ],
            "text/html": [
              "<div>\n",
              "<style scoped>\n",
              "    .dataframe tbody tr th:only-of-type {\n",
              "        vertical-align: middle;\n",
              "    }\n",
              "\n",
              "    .dataframe tbody tr th {\n",
              "        vertical-align: top;\n",
              "    }\n",
              "\n",
              "    .dataframe thead th {\n",
              "        text-align: right;\n",
              "    }\n",
              "</style>\n",
              "<table border=\"1\" class=\"dataframe\">\n",
              "  <thead>\n",
              "    <tr style=\"text-align: right;\">\n",
              "      <th></th>\n",
              "      <th>text</th>\n",
              "    </tr>\n",
              "  </thead>\n",
              "  <tbody>\n",
              "    <tr>\n",
              "      <th>0</th>\n",
              "      <td>драный твой очко победа одержать советский нар...</td>\n",
              "    </tr>\n",
              "    <tr>\n",
              "      <th>1</th>\n",
              "      <td>тупой бараны каждый год туда кататься скулят</td>\n",
              "    </tr>\n",
              "    <tr>\n",
              "      <th>2</th>\n",
              "      <td>бля сдохнуть равенство это весь человек брат в...</td>\n",
              "    </tr>\n",
              "    <tr>\n",
              "      <th>3</th>\n",
              "      <td>получаться протестант которые зарождали капита...</td>\n",
              "    </tr>\n",
              "    <tr>\n",
              "      <th>4</th>\n",
              "      <td>че порваться выблядок горбатый ельцин пиздабол...</td>\n",
              "    </tr>\n",
              "  </tbody>\n",
              "</table>\n",
              "</div><br><label><b>dtype:</b> object</label>"
            ]
          },
          "metadata": {},
          "execution_count": 9
        }
      ]
    },
    {
      "cell_type": "markdown",
      "source": [
        "2. Векторизация"
      ],
      "metadata": {
        "id": "NYZkrQHenb6Z"
      }
    },
    {
      "cell_type": "code",
      "source": [
        "vec = TfidfVectorizer()  #создаем объект TfidfVectorizer\n",
        "text_vec = vec.fit_transform(df['text'])  #обучаем и преобразуем"
      ],
      "metadata": {
        "id": "uqWWoJwOniRf"
      },
      "execution_count": 10,
      "outputs": []
    },
    {
      "cell_type": "markdown",
      "source": [
        "3. Обучаем модель. Бинарная логистическая регрессия."
      ],
      "metadata": {
        "id": "1bFSnQk8nedK"
      }
    },
    {
      "cell_type": "code",
      "source": [
        "X = text_vec        #данные\n",
        "y = df['is_bias']   #метки с бинарным значением"
      ],
      "metadata": {
        "id": "VycpjCR7i6Ef"
      },
      "execution_count": 11,
      "outputs": []
    },
    {
      "cell_type": "code",
      "source": [
        "X_train, X_test, y_train, y_test = train_test_split(\n",
        "    X, y, test_size=0.2, train_size=0.8, stratify=y, random_state=42\n",
        "    )"
      ],
      "metadata": {
        "id": "7HREwG74c_Nk"
      },
      "execution_count": 12,
      "outputs": []
    },
    {
      "cell_type": "code",
      "source": [
        "log_reg = LogisticRegression(class_weight='balanced')\n",
        "log_reg.fit(X_train, y_train)\n",
        "\n",
        "y_pred_log = log_reg.predict(X_test)  # предсказания\n",
        "\n",
        "print(\"Logistic Regression Performance\")\n",
        "print(\"Accuracy:\", accuracy_score(y_test, y_pred_log))\n",
        "print(classification_report(y_test, y_pred_log))"
      ],
      "metadata": {
        "id": "ztVJmR_3hRA6",
        "colab": {
          "base_uri": "https://localhost:8080/"
        },
        "outputId": "6ce84f5b-0b12-441d-b3c8-a1debf23c958"
      },
      "execution_count": 13,
      "outputs": [
        {
          "output_type": "stream",
          "name": "stdout",
          "text": [
            "Logistic Regression Performance\n",
            "Accuracy: 0.7922077922077922\n",
            "              precision    recall  f1-score   support\n",
            "\n",
            "           0       0.77      0.89      0.82        84\n",
            "           1       0.84      0.67      0.75        70\n",
            "\n",
            "    accuracy                           0.79       154\n",
            "   macro avg       0.80      0.78      0.79       154\n",
            "weighted avg       0.80      0.79      0.79       154\n",
            "\n"
          ]
        }
      ]
    },
    {
      "cell_type": "markdown",
      "source": [
        "Видим, что модель чуть лучше схватывает класс 0, но в целом уверенно работает на обоих классах."
      ],
      "metadata": {
        "id": "0tfL4LVXzyhB"
      }
    },
    {
      "cell_type": "markdown",
      "source": [
        "5. Наивный Байесовский классификатор"
      ],
      "metadata": {
        "id": "AMPScMvF7a5X"
      }
    },
    {
      "cell_type": "code",
      "source": [
        "# GaussianNB ругался, что он не работает со спарс-матрицами, поэтому конвертируем в плотный формат\n",
        "X_train_dense = X_train.toarray()\n",
        "X_test_dense  = X_test.toarray()\n",
        "\n",
        "nb = GaussianNB()\n",
        "nb.fit(X_train_dense, y_train)\n",
        "\n",
        "y_pred_nb = nb.predict(X_test_dense)\n",
        "\n",
        "print(\"Naïve Bayes Performance:\")\n",
        "print(\"Accuracy:\", accuracy_score(y_test, y_pred_nb))\n",
        "print(classification_report(y_test, y_pred_nb))"
      ],
      "metadata": {
        "colab": {
          "base_uri": "https://localhost:8080/"
        },
        "id": "aTRJeTSu7XFp",
        "outputId": "0251dc64-60b7-41a8-d739-ddd4fa68b9e6"
      },
      "execution_count": 14,
      "outputs": [
        {
          "output_type": "stream",
          "name": "stdout",
          "text": [
            "Naïve Bayes Performance:\n",
            "Accuracy: 0.564935064935065\n",
            "              precision    recall  f1-score   support\n",
            "\n",
            "           0       0.63      0.50      0.56        84\n",
            "           1       0.52      0.64      0.57        70\n",
            "\n",
            "    accuracy                           0.56       154\n",
            "   macro avg       0.57      0.57      0.56       154\n",
            "weighted avg       0.58      0.56      0.56       154\n",
            "\n"
          ]
        }
      ]
    },
    {
      "cell_type": "markdown",
      "source": [
        "4. Визуализация результатов."
      ],
      "metadata": {
        "id": "XRLa-_kInkc-"
      }
    },
    {
      "cell_type": "code",
      "source": [
        "conf_matrix_log = confusion_matrix(y_test, y_pred_log)  # confusion_matrix для результатов логистической регрессии\n",
        "conf_matrix_nb = confusion_matrix(y_test, y_pred_nb) # confusion_matrix для результатов байесовского классификатора\n",
        "\n",
        "fig, axes = plt.subplots(1, 2, figsize=(12, 5))\n",
        "\n",
        "sns.heatmap(conf_matrix_log, annot=True, fmt=\"d\", cmap=\"Blues\", ax=axes[0])\n",
        "axes[0].set_title(\"Logistic Regression Confusion Matrix\")\n",
        "\n",
        "sns.heatmap(conf_matrix_nb, annot=True, fmt=\"d\", cmap=\"Reds\", ax=axes[1])\n",
        "axes[1].set_title(\"Naïve Bayes Confusion Matrix\")\n",
        "\n",
        "plt.show()"
      ],
      "metadata": {
        "colab": {
          "base_uri": "https://localhost:8080/",
          "height": 468
        },
        "id": "MSczHkqC769X",
        "outputId": "16516c03-cdbe-4c22-a216-a2b025e3948f"
      },
      "execution_count": 15,
      "outputs": [
        {
          "output_type": "display_data",
          "data": {
            "text/plain": [
              "<Figure size 1200x500 with 4 Axes>"
            ],
            "image/png": "[encoded data removed]"
          },
          "metadata": {}
        }
      ]
    }
  ]
}